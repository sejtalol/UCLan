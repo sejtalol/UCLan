{
 "cells": [
  {
   "cell_type": "code",
   "execution_count": null,
   "metadata": {},
   "outputs": [],
   "source": [
    "%matplotlib inline"
   ]
  },
  {
   "cell_type": "code",
   "execution_count": 2,
   "metadata": {},
   "outputs": [],
   "source": [
    "import matplotlib\n",
    "import matplotlib.pyplot as plt\n",
    "import matplotlib.cm as cm\n",
    "import numpy as np\n",
    "import sys\n",
    "from scipy.interpolate import griddata"
   ]
  },
  {
   "cell_type": "raw",
   "metadata": {},
   "source": [
    "#set figure parameters\n",
    "fig = plt.figure(figsize=(10,5), dpi=72, facecolor=\"white\")\n",
    "axes = plt.subplot(111)\n",
    "axes.cla()#clean\n",
    "#font\n",
    "font = {'family' : 'serif',\n",
    "        'color'  : 'darkred',\n",
    "        'weight' : 'normal',\n",
    "        'size'   : 16,\n",
    "        }"
   ]
  },
  {
   "cell_type": "code",
   "execution_count": 3,
   "metadata": {},
   "outputs": [],
   "source": [
    "#input timestep\n",
    "#nn=int(sys.argv[1])\n",
    "nn=50\n",
    "\n",
    "#read out data file\n",
    "filename=('../data/energy_t%3.3d.dat')%(nn)\n",
    "x,y,z,ke,pot=np.loadtxt(filename,usecols=[0,1,2,3,4],unpack=True)"
   ]
  },
  {
   "cell_type": "raw",
   "metadata": {
    "raw_mimetype": "text/latex"
   },
   "source": [
    "1.Potential in (x,y)"
   ]
  },
  {
   "cell_type": "code",
   "execution_count": 4,
   "metadata": {},
   "outputs": [
    {
     "ename": "NameError",
     "evalue": "name 'matplotlib' is not defined",
     "output_type": "error",
     "traceback": [
      "\u001b[0;31m---------------------------------------------------------------------------\u001b[0m",
      "\u001b[0;31mNameError\u001b[0m                                 Traceback (most recent call last)",
      "\u001b[0;32m<ipython-input-4-4abce3495acb>\u001b[0m in \u001b[0;36m<module>\u001b[0;34m()\u001b[0m\n\u001b[1;32m      6\u001b[0m \u001b[0mextent\u001b[0m\u001b[0;34m=\u001b[0m\u001b[0;34m(\u001b[0m\u001b[0;36m0\u001b[0m\u001b[0;34m,\u001b[0m\u001b[0;36m1\u001b[0m\u001b[0;34m,\u001b[0m\u001b[0;36m0\u001b[0m\u001b[0;34m,\u001b[0m\u001b[0;36m1\u001b[0m\u001b[0;34m)\u001b[0m\u001b[0;34m\u001b[0m\u001b[0m\n\u001b[1;32m      7\u001b[0m \u001b[0;31m#colormap\u001b[0m\u001b[0;34m\u001b[0m\u001b[0;34m\u001b[0m\u001b[0m\n\u001b[0;32m----> 8\u001b[0;31m \u001b[0mcmap\u001b[0m \u001b[0;34m=\u001b[0m \u001b[0mmatplotlib\u001b[0m\u001b[0;34m.\u001b[0m\u001b[0mcm\u001b[0m\u001b[0;34m.\u001b[0m\u001b[0mjet\u001b[0m\u001b[0;34m\u001b[0m\u001b[0m\n\u001b[0m\u001b[1;32m      9\u001b[0m \u001b[0;31m#normalization for colormaps and colorbars\u001b[0m\u001b[0;34m\u001b[0m\u001b[0;34m\u001b[0m\u001b[0m\n\u001b[1;32m     10\u001b[0m \u001b[0;31m#norm = matplotlib.colors.Normalize(vmin=, vmax=)\u001b[0m\u001b[0;34m\u001b[0m\u001b[0;34m\u001b[0m\u001b[0m\n",
      "\u001b[0;31mNameError\u001b[0m: name 'matplotlib' is not defined"
     ]
    }
   ],
   "source": [
    "#griddata interpolation\n",
    "grid_x, grid_y = np.mgrid[-8.:8.:0.02, -8:8:0.02]\n",
    "grid_z = griddata((x,y), pot, (grid_x, grid_y), method='cubic')\n",
    "\n",
    "#map x,y into（0，1）extent\n",
    "extent=(0,1,0,1)\n",
    "#colormap\n",
    "cmap = matplotlib.cm.jet\n",
    "#normalization for colormaps and colorbars\n",
    "#norm = matplotlib.colors.Normalize(vmin=, vmax=)\n",
    "\n",
    "#show color map\n",
    "#contourf #>>>ctf=plt.contourf(grid_x,grid_y,grid_z)\n",
    "gci=plt.imshow(grid_z.T, extent=extent, origin='lower',cmap=cmap, norm=norm)\n",
    "\n",
    "#set ticks\n",
    "ax=plt.gca()\n",
    "#ax.set_xticks(np.linspace(0,1,9))\n",
    "#ax.set_xticklabels( ('275', '280', '285', '290', '295',  '300',  '305',  '310', '315'))\n",
    "#ax.set_yticks(np.linspace(0,1,8))\n",
    "#ax.set_yticklabels( ('0.60', '0.65', '0.70', '0.75', '0.80','0.85','0.90','0.95'))\n",
    "\n",
    "#colorbar\n",
    "cbar = plt.colorbar(gci)\n",
    "cbar.set_label('$\\phi$',fontdict=font)\n",
    "#cbar.set_ticks(np.linspace(160,300,8))\n",
    "#cbar.set_ticklabels( ('160', '180', '200', '220', '240',  '260',  '280',  '300'))\n",
    "\n",
    "#label\n",
    "ax.set_ylabel('X',fontdict=font)\n",
    "ax.set_xlabel('Y',fontdict=font)\n",
    "\n",
    "#title\n",
    "titleStr='Potential in (x,y) at T = '+str(nn)\n",
    "plt.title(titleStr)"
   ]
  },
  {
   "cell_type": "raw",
   "metadata": {
    "raw_mimetype": "text/latex"
   },
   "source": [
    "2.Potential (azimuthally averaged) vs. R"
   ]
  },
  {
   "cell_type": "code",
   "execution_count": null,
   "metadata": {},
   "outputs": [],
   "source": [
    "import radialProfile"
   ]
  },
  {
   "cell_type": "code",
   "execution_count": null,
   "metadata": {},
   "outputs": [],
   "source": [
    "#set figure parameters\n",
    "fig = plt.figure(figsize=(10,5), dpi=72, facecolor=\"white\")\n",
    "axes = plt.subplot(111)\n",
    "axes.cla()#clean\n",
    "#font\n",
    "font = {'family' : 'serif',\n",
    "        'color'  : 'darkred',\n",
    "        'weight' : 'normal',\n",
    "        'size'   : 16,\n",
    "        }"
   ]
  },
  {
   "cell_type": "code",
   "execution_count": null,
   "metadata": {},
   "outputs": [],
   "source": [
    "# calculate azimuthally averaged potential & KE\n",
    "\n",
    "nbins = 100\n",
    "Rmax = 8.\n",
    "bin_size = Rmax / np.float(nbins)\n",
    "\n",
    "R = np.range(nbins)*bin_size\n",
    "Aza_Phi=azimuthalAverage(x, y, pot, bin_size)\n",
    "Aza_KE=azimuthalAverage(x, y, ke, bin_size)"
   ]
  },
  {
   "cell_type": "code",
   "execution_count": null,
   "metadata": {},
   "outputs": [],
   "source": [
    "gci=plt.plot(R, Aza_Phi)\n",
    "\n",
    "ax=plt.gca()\n",
    "\n",
    "#label\n",
    "ax.set_ylabel('R',fontdict=font)\n",
    "ax.set_xlabel('$\\phi$',fontdict=font)\n",
    "\n",
    "#title\n",
    "titleStr='Potential vs. R at T = '+str(nn)\n",
    "plt.title(titleStr)"
   ]
  },
  {
   "cell_type": "raw",
   "metadata": {
    "raw_mimetype": "text/latex"
   },
   "source": [
    "3.Potential & KE vs. Kinetic energy"
   ]
  },
  {
   "cell_type": "code",
   "execution_count": null,
   "metadata": {},
   "outputs": [],
   "source": [
    "plt.plot(R, Aza_Phi)\n",
    "plt.plot(R, Aza_KE)\n",
    "\n",
    "ax=plt.gca()\n",
    "\n",
    "#label\n",
    "ax.set_ylabel('R',fontdict=font)\n",
    "ax.set_xlabel('$\\phi & KE$',fontdict=font)\n",
    "\n",
    "#title\n",
    "titleStr='Potential & KE vs. R at T = '+str(nn)\n",
    "plt.title(titleStr)"
   ]
  }
 ],
 "metadata": {
  "kernelspec": {
   "display_name": "Python 2",
   "language": "python",
   "name": "python2"
  },
  "language_info": {
   "codemirror_mode": {
    "name": "ipython",
    "version": 2
   },
   "file_extension": ".py",
   "mimetype": "text/x-python",
   "name": "python",
   "nbconvert_exporter": "python",
   "pygments_lexer": "ipython2",
   "version": "2.7.10"
  }
 },
 "nbformat": 4,
 "nbformat_minor": 2
}
