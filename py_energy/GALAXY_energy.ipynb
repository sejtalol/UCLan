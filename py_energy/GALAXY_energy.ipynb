{
 "cells": [
  {
   "cell_type": "code",
   "execution_count": 1,
   "metadata": {},
   "outputs": [],
   "source": [
    "%matplotlib inline"
   ]
  },
  {
   "cell_type": "code",
   "execution_count": 2,
   "metadata": {},
   "outputs": [
    {
     "name": "stderr",
     "output_type": "stream",
     "text": [
      "/Users/user/Library/Python/2.7/lib/python/site-packages/ipykernel_launcher.py:17: RuntimeWarning: divide by zero encountered in divide\n"
     ]
    },
    {
     "data": {
      "text/plain": [
       "<matplotlib.text.Text at 0x10469bed0>"
      ]
     },
     "execution_count": 2,
     "metadata": {},
     "output_type": "execute_result"
    },
    {
     "ename": "AttributeError",
     "evalue": "'module' object has no attribute 'to_rgba'",
     "output_type": "error",
     "traceback": [
      "\u001b[0;31m---------------------------------------------------------------------------\u001b[0m",
      "\u001b[0;31mAttributeError\u001b[0m                            Traceback (most recent call last)",
      "\u001b[0;32m/Users/user/Library/Python/2.7/lib/python/site-packages/ipykernel/pylab/backend_inline.pyc\u001b[0m in \u001b[0;36mshow\u001b[0;34m(close, block)\u001b[0m\n\u001b[1;32m     37\u001b[0m             display(\n\u001b[1;32m     38\u001b[0m                 \u001b[0mfigure_manager\u001b[0m\u001b[0;34m.\u001b[0m\u001b[0mcanvas\u001b[0m\u001b[0;34m.\u001b[0m\u001b[0mfigure\u001b[0m\u001b[0;34m,\u001b[0m\u001b[0;34m\u001b[0m\u001b[0m\n\u001b[0;32m---> 39\u001b[0;31m                 \u001b[0mmetadata\u001b[0m\u001b[0;34m=\u001b[0m\u001b[0m_fetch_figure_metadata\u001b[0m\u001b[0;34m(\u001b[0m\u001b[0mfigure_manager\u001b[0m\u001b[0;34m.\u001b[0m\u001b[0mcanvas\u001b[0m\u001b[0;34m.\u001b[0m\u001b[0mfigure\u001b[0m\u001b[0;34m)\u001b[0m\u001b[0;34m\u001b[0m\u001b[0m\n\u001b[0m\u001b[1;32m     40\u001b[0m             )\n\u001b[1;32m     41\u001b[0m     \u001b[0;32mfinally\u001b[0m\u001b[0;34m:\u001b[0m\u001b[0;34m\u001b[0m\u001b[0m\n",
      "\u001b[0;32m/Users/user/Library/Python/2.7/lib/python/site-packages/ipykernel/pylab/backend_inline.pyc\u001b[0m in \u001b[0;36m_fetch_figure_metadata\u001b[0;34m(fig)\u001b[0m\n\u001b[1;32m    172\u001b[0m     \u001b[0;34m\"\"\"Get some metadata to help with displaying a figure.\"\"\"\u001b[0m\u001b[0;34m\u001b[0m\u001b[0m\n\u001b[1;32m    173\u001b[0m     \u001b[0;31m# determine if a background is needed for legibility\u001b[0m\u001b[0;34m\u001b[0m\u001b[0;34m\u001b[0m\u001b[0m\n\u001b[0;32m--> 174\u001b[0;31m     \u001b[0;32mif\u001b[0m \u001b[0m_is_transparent\u001b[0m\u001b[0;34m(\u001b[0m\u001b[0mfig\u001b[0m\u001b[0;34m.\u001b[0m\u001b[0mget_facecolor\u001b[0m\u001b[0;34m(\u001b[0m\u001b[0;34m)\u001b[0m\u001b[0;34m)\u001b[0m\u001b[0;34m:\u001b[0m\u001b[0;34m\u001b[0m\u001b[0m\n\u001b[0m\u001b[1;32m    175\u001b[0m         \u001b[0;31m# the background is transparent\u001b[0m\u001b[0;34m\u001b[0m\u001b[0;34m\u001b[0m\u001b[0m\n\u001b[1;32m    176\u001b[0m         ticksLight = _is_light([label.get_color()\n",
      "\u001b[0;32m/Users/user/Library/Python/2.7/lib/python/site-packages/ipykernel/pylab/backend_inline.pyc\u001b[0m in \u001b[0;36m_is_transparent\u001b[0;34m(color)\u001b[0m\n\u001b[1;32m    193\u001b[0m \u001b[0;32mdef\u001b[0m \u001b[0m_is_transparent\u001b[0m\u001b[0;34m(\u001b[0m\u001b[0mcolor\u001b[0m\u001b[0;34m)\u001b[0m\u001b[0;34m:\u001b[0m\u001b[0;34m\u001b[0m\u001b[0m\n\u001b[1;32m    194\u001b[0m     \u001b[0;34m\"\"\"Determine transparency from alpha.\"\"\"\u001b[0m\u001b[0;34m\u001b[0m\u001b[0m\n\u001b[0;32m--> 195\u001b[0;31m     \u001b[0mrgba\u001b[0m \u001b[0;34m=\u001b[0m \u001b[0mcolors\u001b[0m\u001b[0;34m.\u001b[0m\u001b[0mto_rgba\u001b[0m\u001b[0;34m(\u001b[0m\u001b[0mcolor\u001b[0m\u001b[0;34m)\u001b[0m\u001b[0;34m\u001b[0m\u001b[0m\n\u001b[0m\u001b[1;32m    196\u001b[0m     \u001b[0;32mreturn\u001b[0m \u001b[0mrgba\u001b[0m\u001b[0;34m[\u001b[0m\u001b[0;36m3\u001b[0m\u001b[0;34m]\u001b[0m \u001b[0;34m<\u001b[0m \u001b[0;36m.5\u001b[0m\u001b[0;34m\u001b[0m\u001b[0m\n",
      "\u001b[0;31mAttributeError\u001b[0m: 'module' object has no attribute 'to_rgba'"
     ]
    }
   ],
   "source": [
    "import numpy as np\n",
    "import pylab as plt\n",
    "import radial_data as rad\n",
    "\n",
    "# Create coordinate grid\n",
    "npix = 50.\n",
    "x = np.arange(npix) - npix/2.\n",
    "xx, yy = np.meshgrid(x, x)\n",
    "r = np.sqrt(xx**2 + yy**2)\n",
    "fake_psf = np.exp(-(r/5.)**2)\n",
    "noise = 0.1 * np.random.normal(0, 1, r.size).reshape(r.shape)\n",
    "simulation = fake_psf + noise\n",
    "\n",
    "rad_stats = rad.radial_data(simulation, x=xx, y=yy)\n",
    "\n",
    "#plt.figure()\n",
    "plt.plot(rad_stats.r, rad_stats.mean / rad_stats.std)\n",
    "plt.xlabel('Radial coordinate')\n",
    "plt.ylabel('Signal to Noise')"
   ]
  },
  {
   "cell_type": "code",
   "execution_count": null,
   "metadata": {},
   "outputs": [],
   "source": [
    "import matplotlib.pyplot as plt\n",
    "import matplotlib.cm as cm\n",
    "import numpy as np\n",
    "import sys"
   ]
  },
  {
   "cell_type": "code",
   "execution_count": null,
   "metadata": {},
   "outputs": [],
   "source": [
    "#set figure parameters\n",
    "fig = plt.figure(figsize=(10,5), dpi=72, facecolor=\"white\")\n",
    "axes = plt.subplot(111)\n",
    "axes.cla()#clean\n",
    "#font\n",
    "font = {'family' : 'serif',\n",
    "        'color'  : 'darkred',\n",
    "        'weight' : 'normal',\n",
    "        'size'   : 16,\n",
    "        }"
   ]
  },
  {
   "cell_type": "code",
   "execution_count": null,
   "metadata": {},
   "outputs": [],
   "source": [
    "#input timestep\n",
    "nn=int(sys.argv[1])\n",
    "\n",
    "#read out data file\n",
    "filename=('../data/energy_t%3.3d.dat')%(nn)\n",
    "x,y,z,ke,pot=np.loadtxt(filename,usecols=[0,1,2,3,4],unpack=True)"
   ]
  },
  {
   "cell_type": "raw",
   "metadata": {
    "raw_mimetype": "text/latex"
   },
   "source": [
    "1.Potential in (x,y)"
   ]
  },
  {
   "cell_type": "code",
   "execution_count": null,
   "metadata": {},
   "outputs": [],
   "source": [
    "#griddata interpolation\n",
    "grid_x, grid_y = np.mgrid[-8.:8.:0.02, -8:8:0.02]\n",
    "grid_z = griddata((x,y), pot, (grid_x, grid_y), method='cubic')\n",
    "\n",
    "#map x,y into（0，1）extent\n",
    "extent=(0,1,0,1)\n",
    "#colormap\n",
    "cmap = matplotlib.cm.jet\n",
    "#normalization for colormaps and colorbars\n",
    "#norm = matplotlib.colors.Normalize(vmin=, vmax=)\n",
    "\n",
    "#show color map\n",
    "#contourf #>>>ctf=plt.contourf(grid_x,grid_y,grid_z)\n",
    "gci=plt.imshow(grid_z.T, extent=extent, origin='lower',cmap=cmap, norm=norm)\n",
    "\n",
    "#set ticks\n",
    "ax=plt.gca()\n",
    "#ax.set_xticks(np.linspace(0,1,9))\n",
    "#ax.set_xticklabels( ('275', '280', '285', '290', '295',  '300',  '305',  '310', '315'))\n",
    "#ax.set_yticks(np.linspace(0,1,8))\n",
    "#ax.set_yticklabels( ('0.60', '0.65', '0.70', '0.75', '0.80','0.85','0.90','0.95'))\n",
    "\n",
    "#colorbar\n",
    "cbar = plt.colorbar(gci)\n",
    "cbar.set_label('$\\phi$',fontdict=font)\n",
    "#cbar.set_ticks(np.linspace(160,300,8))\n",
    "#cbar.set_ticklabels( ('160', '180', '200', '220', '240',  '260',  '280',  '300'))\n",
    "\n",
    "#label\n",
    "ax.set_ylabel('X',fontdict=font)\n",
    "ax.set_xlabel('Y',fontdict=font)\n",
    "\n",
    "#title\n",
    "titleStr='Potential in (x,y) at T = '+str(nn)\n",
    "plt.title(titleStr)"
   ]
  },
  {
   "cell_type": "raw",
   "metadata": {
    "raw_mimetype": "text/latex"
   },
   "source": [
    "2.Potential vs. R"
   ]
  },
  {
   "cell_type": "code",
   "execution_count": null,
   "metadata": {},
   "outputs": [],
   "source": [
    "#set figure parameters\n",
    "fig = plt.figure(figsize=(10,5), dpi=72, facecolor=\"white\")\n",
    "axes = plt.subplot(111)\n",
    "axes.cla()#clean\n",
    "#font\n",
    "font = {'family' : 'serif',\n",
    "        'color'  : 'darkred',\n",
    "        'weight' : 'normal',\n",
    "        'size'   : 16,\n",
    "        }"
   ]
  },
  {
   "cell_type": "code",
   "execution_count": null,
   "metadata": {},
   "outputs": [],
   "source": [
    "gci=plt.plot(np.sqrt(x**2+y**2),pot)\n",
    "\n",
    "ax=plt.gca()\n",
    "\n",
    "#label\n",
    "ax.set_ylabel('R',fontdict=font)\n",
    "ax.set_xlabel('$\\phi$',fontdict=font)\n",
    "\n",
    "#title\n",
    "titleStr='Potential vs. R at T = '+str(nn)\n",
    "plt.title(titleStr)"
   ]
  },
  {
   "cell_type": "raw",
   "metadata": {
    "raw_mimetype": "text/latex"
   },
   "source": [
    "3.Potential & KE vs. Kinetic energy"
   ]
  },
  {
   "cell_type": "code",
   "execution_count": null,
   "metadata": {},
   "outputs": [],
   "source": [
    "plt.plot(np.sqrt(x**2+y**2),pot)\n",
    "plt.plot(np.sqrt(x**2+y**2),ke)\n",
    "\n",
    "ax=plt.gca()\n",
    "\n",
    "#label\n",
    "ax.set_ylabel('R',fontdict=font)\n",
    "ax.set_xlabel('$\\phi & KE$',fontdict=font)\n",
    "\n",
    "#title\n",
    "titleStr='Potential & KE vs. R at T = '+str(nn)\n",
    "plt.title(titleStr)"
   ]
  }
 ],
 "metadata": {
  "kernelspec": {
   "display_name": "Python 2",
   "language": "python",
   "name": "python2"
  },
  "language_info": {
   "codemirror_mode": {
    "name": "ipython",
    "version": 2
   },
   "file_extension": ".py",
   "mimetype": "text/x-python",
   "name": "python",
   "nbconvert_exporter": "python",
   "pygments_lexer": "ipython2",
   "version": "2.7.10"
  }
 },
 "nbformat": 4,
 "nbformat_minor": 2
}
