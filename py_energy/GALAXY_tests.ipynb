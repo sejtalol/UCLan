{
 "cells": [
  {
   "cell_type": "code",
   "execution_count": 1,
   "metadata": {},
   "outputs": [],
   "source": [
    "%matplotlib inline"
   ]
  },
  {
   "cell_type": "code",
   "execution_count": 2,
   "metadata": {},
   "outputs": [],
   "source": [
    "import numpy as np\n",
    "import matplotlib\n",
    "import matplotlib.pyplot as plt\n",
    "import matplotlib.cm as cm"
   ]
  },
  {
   "cell_type": "markdown",
   "metadata": {},
   "source": [
    "### Read in data"
   ]
  },
  {
   "cell_type": "code",
   "execution_count": 3,
   "metadata": {},
   "outputs": [
    {
     "ename": "IndexError",
     "evalue": "list index out of range",
     "output_type": "error",
     "traceback": [
      "\u001b[0;31m---------------------------------------------------------------------------\u001b[0m",
      "\u001b[0;31mIndexError\u001b[0m                                Traceback (most recent call last)",
      "\u001b[0;32m<ipython-input-3-fcbe206e2b7c>\u001b[0m in \u001b[0;36m<module>\u001b[0;34m\u001b[0m\n\u001b[1;32m      5\u001b[0m \u001b[0;34m\u001b[0m\u001b[0m\n\u001b[1;32m      6\u001b[0m \u001b[0mfilename1\u001b[0m\u001b[0;34m=\u001b[0m\u001b[0;34m(\u001b[0m\u001b[0;34m'../data/ptcls_info_t%3.3d.dat'\u001b[0m\u001b[0;34m)\u001b[0m\u001b[0;34m%\u001b[0m\u001b[0;34m(\u001b[0m\u001b[0mnn\u001b[0m\u001b[0;34m)\u001b[0m\u001b[0;34m\u001b[0m\u001b[0;34m\u001b[0m\u001b[0m\n\u001b[0;32m----> 7\u001b[0;31m \u001b[0mx1\u001b[0m\u001b[0;34m,\u001b[0m\u001b[0my1\u001b[0m\u001b[0;34m,\u001b[0m\u001b[0mz1\u001b[0m\u001b[0;34m,\u001b[0m\u001b[0mang1\u001b[0m\u001b[0;34m,\u001b[0m\u001b[0mte1\u001b[0m\u001b[0;34m=\u001b[0m\u001b[0mnp\u001b[0m\u001b[0;34m.\u001b[0m\u001b[0mloadtxt\u001b[0m\u001b[0;34m(\u001b[0m\u001b[0mfilename1\u001b[0m\u001b[0;34m,\u001b[0m\u001b[0musecols\u001b[0m\u001b[0;34m=\u001b[0m\u001b[0;34m[\u001b[0m\u001b[0;36m0\u001b[0m\u001b[0;34m,\u001b[0m\u001b[0;36m1\u001b[0m\u001b[0;34m,\u001b[0m\u001b[0;36m2\u001b[0m\u001b[0;34m,\u001b[0m\u001b[0;36m3\u001b[0m\u001b[0;34m,\u001b[0m\u001b[0;36m4\u001b[0m\u001b[0;34m]\u001b[0m\u001b[0;34m,\u001b[0m\u001b[0munpack\u001b[0m\u001b[0;34m=\u001b[0m\u001b[0;32mTrue\u001b[0m\u001b[0;34m)\u001b[0m\u001b[0;34m\u001b[0m\u001b[0;34m\u001b[0m\u001b[0m\n\u001b[0m\u001b[1;32m      8\u001b[0m \u001b[0mfilename2\u001b[0m\u001b[0;34m=\u001b[0m\u001b[0;34m(\u001b[0m\u001b[0;34m'../data/ptcls_info_t%3.3d.dat'\u001b[0m\u001b[0;34m)\u001b[0m\u001b[0;34m%\u001b[0m\u001b[0;34m(\u001b[0m\u001b[0mnn\u001b[0m\u001b[0;34m+\u001b[0m\u001b[0mdn1\u001b[0m\u001b[0;34m)\u001b[0m\u001b[0;34m\u001b[0m\u001b[0;34m\u001b[0m\u001b[0m\n\u001b[1;32m      9\u001b[0m \u001b[0mx2\u001b[0m\u001b[0;34m,\u001b[0m\u001b[0my2\u001b[0m\u001b[0;34m,\u001b[0m\u001b[0mz2\u001b[0m\u001b[0;34m,\u001b[0m\u001b[0mang2\u001b[0m\u001b[0;34m,\u001b[0m\u001b[0mte2\u001b[0m\u001b[0;34m=\u001b[0m\u001b[0mnp\u001b[0m\u001b[0;34m.\u001b[0m\u001b[0mloadtxt\u001b[0m\u001b[0;34m(\u001b[0m\u001b[0mfilename2\u001b[0m\u001b[0;34m,\u001b[0m\u001b[0musecols\u001b[0m\u001b[0;34m=\u001b[0m\u001b[0;34m[\u001b[0m\u001b[0;36m0\u001b[0m\u001b[0;34m,\u001b[0m\u001b[0;36m1\u001b[0m\u001b[0;34m,\u001b[0m\u001b[0;36m2\u001b[0m\u001b[0;34m,\u001b[0m\u001b[0;36m3\u001b[0m\u001b[0;34m,\u001b[0m\u001b[0;36m4\u001b[0m\u001b[0;34m]\u001b[0m\u001b[0;34m,\u001b[0m\u001b[0munpack\u001b[0m\u001b[0;34m=\u001b[0m\u001b[0;32mTrue\u001b[0m\u001b[0;34m)\u001b[0m\u001b[0;34m\u001b[0m\u001b[0;34m\u001b[0m\u001b[0m\n",
      "\u001b[0;32m/usr/local/anaconda3/lib/python3.7/site-packages/numpy/lib/npyio.py\u001b[0m in \u001b[0;36mloadtxt\u001b[0;34m(fname, dtype, comments, delimiter, converters, skiprows, usecols, unpack, ndmin, encoding)\u001b[0m\n\u001b[1;32m   1099\u001b[0m         \u001b[0;31m# converting the data\u001b[0m\u001b[0;34m\u001b[0m\u001b[0;34m\u001b[0m\u001b[0;34m\u001b[0m\u001b[0m\n\u001b[1;32m   1100\u001b[0m         \u001b[0mX\u001b[0m \u001b[0;34m=\u001b[0m \u001b[0;32mNone\u001b[0m\u001b[0;34m\u001b[0m\u001b[0;34m\u001b[0m\u001b[0m\n\u001b[0;32m-> 1101\u001b[0;31m         \u001b[0;32mfor\u001b[0m \u001b[0mx\u001b[0m \u001b[0;32min\u001b[0m \u001b[0mread_data\u001b[0m\u001b[0;34m(\u001b[0m\u001b[0m_loadtxt_chunksize\u001b[0m\u001b[0;34m)\u001b[0m\u001b[0;34m:\u001b[0m\u001b[0;34m\u001b[0m\u001b[0;34m\u001b[0m\u001b[0m\n\u001b[0m\u001b[1;32m   1102\u001b[0m             \u001b[0;32mif\u001b[0m \u001b[0mX\u001b[0m \u001b[0;32mis\u001b[0m \u001b[0;32mNone\u001b[0m\u001b[0;34m:\u001b[0m\u001b[0;34m\u001b[0m\u001b[0;34m\u001b[0m\u001b[0m\n\u001b[1;32m   1103\u001b[0m                 \u001b[0mX\u001b[0m \u001b[0;34m=\u001b[0m \u001b[0mnp\u001b[0m\u001b[0;34m.\u001b[0m\u001b[0marray\u001b[0m\u001b[0;34m(\u001b[0m\u001b[0mx\u001b[0m\u001b[0;34m,\u001b[0m \u001b[0mdtype\u001b[0m\u001b[0;34m)\u001b[0m\u001b[0;34m\u001b[0m\u001b[0;34m\u001b[0m\u001b[0m\n",
      "\u001b[0;32m/usr/local/anaconda3/lib/python3.7/site-packages/numpy/lib/npyio.py\u001b[0m in \u001b[0;36mread_data\u001b[0;34m(chunk_size)\u001b[0m\n\u001b[1;32m   1019\u001b[0m                 \u001b[0;32mcontinue\u001b[0m\u001b[0;34m\u001b[0m\u001b[0;34m\u001b[0m\u001b[0m\n\u001b[1;32m   1020\u001b[0m             \u001b[0;32mif\u001b[0m \u001b[0musecols\u001b[0m\u001b[0;34m:\u001b[0m\u001b[0;34m\u001b[0m\u001b[0;34m\u001b[0m\u001b[0m\n\u001b[0;32m-> 1021\u001b[0;31m                 \u001b[0mvals\u001b[0m \u001b[0;34m=\u001b[0m \u001b[0;34m[\u001b[0m\u001b[0mvals\u001b[0m\u001b[0;34m[\u001b[0m\u001b[0mj\u001b[0m\u001b[0;34m]\u001b[0m \u001b[0;32mfor\u001b[0m \u001b[0mj\u001b[0m \u001b[0;32min\u001b[0m \u001b[0musecols\u001b[0m\u001b[0;34m]\u001b[0m\u001b[0;34m\u001b[0m\u001b[0;34m\u001b[0m\u001b[0m\n\u001b[0m\u001b[1;32m   1022\u001b[0m             \u001b[0;32mif\u001b[0m \u001b[0mlen\u001b[0m\u001b[0;34m(\u001b[0m\u001b[0mvals\u001b[0m\u001b[0;34m)\u001b[0m \u001b[0;34m!=\u001b[0m \u001b[0mN\u001b[0m\u001b[0;34m:\u001b[0m\u001b[0;34m\u001b[0m\u001b[0;34m\u001b[0m\u001b[0m\n\u001b[1;32m   1023\u001b[0m                 \u001b[0mline_num\u001b[0m \u001b[0;34m=\u001b[0m \u001b[0mi\u001b[0m \u001b[0;34m+\u001b[0m \u001b[0mskiprows\u001b[0m \u001b[0;34m+\u001b[0m \u001b[0;36m1\u001b[0m\u001b[0;34m\u001b[0m\u001b[0;34m\u001b[0m\u001b[0m\n",
      "\u001b[0;32m/usr/local/anaconda3/lib/python3.7/site-packages/numpy/lib/npyio.py\u001b[0m in \u001b[0;36m<listcomp>\u001b[0;34m(.0)\u001b[0m\n\u001b[1;32m   1019\u001b[0m                 \u001b[0;32mcontinue\u001b[0m\u001b[0;34m\u001b[0m\u001b[0;34m\u001b[0m\u001b[0m\n\u001b[1;32m   1020\u001b[0m             \u001b[0;32mif\u001b[0m \u001b[0musecols\u001b[0m\u001b[0;34m:\u001b[0m\u001b[0;34m\u001b[0m\u001b[0;34m\u001b[0m\u001b[0m\n\u001b[0;32m-> 1021\u001b[0;31m                 \u001b[0mvals\u001b[0m \u001b[0;34m=\u001b[0m \u001b[0;34m[\u001b[0m\u001b[0mvals\u001b[0m\u001b[0;34m[\u001b[0m\u001b[0mj\u001b[0m\u001b[0;34m]\u001b[0m \u001b[0;32mfor\u001b[0m \u001b[0mj\u001b[0m \u001b[0;32min\u001b[0m \u001b[0musecols\u001b[0m\u001b[0;34m]\u001b[0m\u001b[0;34m\u001b[0m\u001b[0;34m\u001b[0m\u001b[0m\n\u001b[0m\u001b[1;32m   1022\u001b[0m             \u001b[0;32mif\u001b[0m \u001b[0mlen\u001b[0m\u001b[0;34m(\u001b[0m\u001b[0mvals\u001b[0m\u001b[0;34m)\u001b[0m \u001b[0;34m!=\u001b[0m \u001b[0mN\u001b[0m\u001b[0;34m:\u001b[0m\u001b[0;34m\u001b[0m\u001b[0;34m\u001b[0m\u001b[0m\n\u001b[1;32m   1023\u001b[0m                 \u001b[0mline_num\u001b[0m \u001b[0;34m=\u001b[0m \u001b[0mi\u001b[0m \u001b[0;34m+\u001b[0m \u001b[0mskiprows\u001b[0m \u001b[0;34m+\u001b[0m \u001b[0;36m1\u001b[0m\u001b[0;34m\u001b[0m\u001b[0;34m\u001b[0m\u001b[0m\n",
      "\u001b[0;31mIndexError\u001b[0m: list index out of range"
     ]
    }
   ],
   "source": [
    "# later time step\n",
    "nn = 400\n",
    "dn1 = 10\n",
    "dn2 = 50\n",
    "\n",
    "filename1=('../data/ptcls_info_t%3.3d.dat')%(nn)\n",
    "x1,y1,z1,ang1,te1=np.loadtxt(filename1,usecols=[0,1,2,3,4],unpack=True)\n",
    "filename2=('../data/ptcls_info_t%3.3d.dat')%(nn+dn1)\n",
    "x2,y2,z2,ang2,te2=np.loadtxt(filename2,usecols=[0,1,2,3,4],unpack=True)\n",
    "filename3=('../data/ptcls_info_t%3.3d.dat')%(nn+dn2)\n",
    "x3,y3,z3,ang3,te3=np.loadtxt(filename3,usecols=[0,1,2,3,4],unpack=True)\n",
    "\n",
    "omega_bar = 0.542\n",
    "omega_spiral = 0.228\n",
    "CR_bar = 3.2\n",
    "CR_spiral = 7.0\n",
    "\n",
    "R_max = 8."
   ]
  },
  {
   "cell_type": "code",
   "execution_count": null,
   "metadata": {},
   "outputs": [],
   "source": [
    "r1 = [np.sqrt(x1[i]**2 + y1[i]**2) for i in range(len(x1))]\n",
    "r2 = [np.sqrt(x2[i]**2 + y2[i]**2) for i in range(len(x2))]\n",
    "r3 = [np.sqrt(x2[i]**2 + y2[i]**2) for i in range(len(x3))]\n",
    "da1 = [ang2[i] - ang1[i] for i in range(len(x1))]\n",
    "da2 = [ang3[i] - ang1[i] for i in range(len(x1))]\n",
    "# Ej = E - omega * ang\n",
    "Ej1 = [te1[i] - omega_bar * ang1[i] for i in range(len(x1))]\n",
    "Ej2 = [te2[i] - omega_bar * ang2[i] for i in range(len(x2))]\n",
    "Ej3 = [te3[i] - omega_bar * ang3[i] for i in range(len(x3))]\n",
    "dEj1 = [Ej2[i] - Ej1[i] for i in range(len(x1))]\n",
    "dEj2 = [Ej3[i] - Ej1[i] for i in range(len(x1))]"
   ]
  },
  {
   "cell_type": "markdown",
   "metadata": {},
   "source": [
    "1.change of the Jacobi Energy\n",
    "----"
   ]
  },
  {
   "cell_type": "code",
   "execution_count": null,
   "metadata": {},
   "outputs": [],
   "source": [
    "fig = plt.figure(figsize=(16, 10), dpi=72, facecolor=\"white\")\n",
    "ax1 = fig.add_axes([0.1, 0.1, 0.35, 0.8])\n",
    "ax2 = fig.add_axes([0.45, 0.1, 0.35, 0.8])\n",
    "ax1.tick_params(direction='out',labelsize=18)\n",
    "ax2.tick_params(direction='out',labelsize=18)\n",
    "\n",
    "# set font\n",
    "font = {'family' : 'Times New Roman',\n",
    "        'color'  : 'darkred',\n",
    "        'weight' : 'normal',\n",
    "        'size'   : 20,\n",
    "       }\n",
    "\n",
    "#extent\n",
    "extent=(0,1,0,1)\n",
    "#cmap\n",
    "cmap=plt.cm.get_cmap('rainbow')\n",
    "#normalize colorbar\n",
    "norm= matplotlib.colors.Normalize(vmin=0,vmax=8.)\n",
    "\n",
    "#PLOT 1\n",
    "H1,xedges1,yedges1 = np.histogram2d(dEj1,Ej1,bins=(100,100),range=([-2.0, 2.0],[-8,0]))\n",
    "\n",
    "gci=ax1.imshow(np.log(H1),interpolation='nearest',extent=extent,origin='low',cmap=cmap,norm=norm)\n",
    "\n",
    "#set ticks\n",
    "#ax.set_xlabel('X')\n",
    "ax1.set_xticks(np.linspace(0,1,9))\n",
    "ax1.set_xticklabels( ('-8', '-7', '-6', '-5', '-4', '-3',  '-2',  '-1', '0'))\n",
    "#ax.set_ylabel('Y')\n",
    "ax1.set_yticks(np.linspace(0,1,9))\n",
    "ax1.set_yticklabels( ('-2.0', '-1.5', '-1.0', '-0.5', '0',  '0.5',  '1.0',  '1.5', '2.0'))\n",
    "\n",
    "#set labels\n",
    "ax1.set_xlabel('$E_{J}$ ( $\\Delta$t = 10 )',fontdict=font)\n",
    "ax1.set_ylabel('$\\Delta E_{J}$',fontdict=font)\n",
    "\n",
    "#PLOT 2\n",
    "H2,xedges2,yedges2 = np.histogram2d(dEj2,Ej1,bins=(100,100),range=([-2.0, 2.0],[-8,0]))\n",
    "\n",
    "ax2.imshow(np.log(H2),interpolation='nearest',extent=extent,origin='low',cmap=cmap,norm=norm)\n",
    "\n",
    "#set ticks\n",
    "#ax.set_xlabel('X')\n",
    "ax2.set_xticks(np.linspace(0,1,9))\n",
    "ax2.set_xticklabels( ('', '-7', '-6', '-5', '-4', '-3',  '-2',  '-1', '0'))\n",
    "ax2.set_yticklabels( (''))\n",
    "\n",
    "#set labels\n",
    "ax2.set_xlabel('$E_{J}$ ( $\\Delta$t = 50 )',fontdict=font)\n",
    "ax2.set_ylabel('')\n",
    "\n",
    "#colorbar\n",
    "cbar_ax = fig.add_axes([0.85, 0.22, 0.02, 0.55])\n",
    "cbar = fig.colorbar(gci, cax=cbar_ax)\n",
    "cbar.set_label('log(N)',fontdict=font)\n",
    "cbar.set_ticks(np.linspace(0,8,9))\n",
    "cbar.set_ticklabels( ('0', '1.0', '2.0', '3.0', '4.0', '5.0', '6.0', '7.0', '8.0'))\n",
    "cbar.ax.tick_params(labelsize=16)\n",
    "#plt.clim(0,8)"
   ]
  },
  {
   "cell_type": "markdown",
   "metadata": {},
   "source": [
    "2.change of angular momentum\n",
    "----"
   ]
  },
  {
   "cell_type": "code",
   "execution_count": null,
   "metadata": {},
   "outputs": [],
   "source": [
    "fig = plt.figure(figsize=(16, 10), dpi=72, facecolor=\"white\")\n",
    "ax1 = fig.add_axes([0.1, 0.1, 0.35, 0.8])\n",
    "ax2 = fig.add_axes([0.45, 0.1, 0.35, 0.8])\n",
    "ax1.tick_params(direction='out',labelsize=18)\n",
    "ax2.tick_params(direction='out',labelsize=18)\n",
    "\n",
    "# set font\n",
    "font = {'family' : 'Times New Roman',\n",
    "        'color'  : 'darkred',\n",
    "        'weight' : 'normal',\n",
    "        'size'   : 20,\n",
    "       }\n",
    "\n",
    "#extent\n",
    "extent=(0,1,0,1)\n",
    "#cmap\n",
    "cmap=plt.cm.get_cmap('rainbow')\n",
    "#normalize colorbar\n",
    "norm= matplotlib.colors.Normalize(vmin=0,vmax=8.)\n",
    "\n",
    "#PLOT 1\n",
    "H1,xedges1,yedges1 = np.histogram2d(da1,ang1,bins=(100,100),range=([-5.,5.],[-2.5,15]))\n",
    "\n",
    "gci=ax1.imshow(np.log(H1),interpolation='nearest',extent=extent,origin='low',cmap=cmap,norm=norm)\n",
    "\n",
    "#set ticks\n",
    "#ax.set_xlabel('X')\n",
    "ax1.set_xticks(np.linspace(0,1,8))\n",
    "ax1.set_xticklabels( ('-2.5', '0', '2.5', '5', '7.5', '10',  '12.5',  '15'))\n",
    "#ax1.set_ylabel('Y')\n",
    "ax1.set_yticks(np.linspace(0,1,11))\n",
    "ax1.set_yticklabels( ('-5.0', '-4.0', '-3.0', '-2.0', '-1.0' '0', '1.0', '2.0', '3.0', '4.0', '5.0'))\n",
    "\n",
    "#set labels\n",
    "ax1.set_xlabel('$L_{Z}$ ( $\\Delta$t = 10 )',fontdict=font)\n",
    "ax1.set_ylabel('$\\Delta L_{Z}$',fontdict=font)\n",
    "\n",
    "#PLOT 2\n",
    "H2,xedges2,yedges2 = np.histogram2d(da2,ang1,bins=(100,100),range=([-5.,5.],[-2.5,15]))\n",
    "\n",
    "ax2.imshow(np.log(H2),interpolation='nearest',extent=extent,origin='low',cmap=cmap,norm=norm)\n",
    "\n",
    "#set ticks\n",
    "#ax.set_xlabel('X')\n",
    "ax2.set_xticks(np.linspace(0,1,8))\n",
    "ax2.set_xticklabels( ('-2.5', '0', '2.5', '5', '7.5', '10',  '12.5',  '15'))\n",
    "ax2.set_yticklabels( (''))\n",
    "\n",
    "#set labels\n",
    "ax2.set_xlabel('$L_{Z}$ ( $\\Delta$t = 50 )',fontdict=font)\n",
    "ax2.set_ylabel('')\n",
    "\n",
    "#colorbar\n",
    "cbar_ax = fig.add_axes([0.85, 0.22, 0.02, 0.55])\n",
    "cbar = fig.colorbar(gci, cax=cbar_ax)\n",
    "cbar.set_label('log(N)',fontdict=font)\n",
    "cbar.set_ticks(np.linspace(0,8,9))\n",
    "cbar.set_ticklabels( ('0', '1.0', '2.0', '3.0', '4.0', '5.0', '6.0', '7.0', '8.0'))\n",
    "cbar.ax.tick_params(labelsize=16)\n",
    "#plt.clim(0,8)"
   ]
  },
  {
   "cell_type": "code",
   "execution_count": null,
   "metadata": {},
   "outputs": [],
   "source": []
  }
 ],
 "metadata": {
  "kernelspec": {
   "display_name": "Python 3",
   "language": "python",
   "name": "python3"
  }
 },
 "nbformat": 4,
 "nbformat_minor": 2
}
