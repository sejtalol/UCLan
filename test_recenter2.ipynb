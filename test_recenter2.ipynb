{
 "cells": [
  {
   "cell_type": "code",
   "execution_count": 1,
   "metadata": {
    "scrolled": true
   },
   "outputs": [
    {
     "name": "stderr",
     "output_type": "stream",
     "text": [
      "In /share/soft/anaconda3/lib/python3.7/site-packages/matplotlib/mpl-data/stylelib/_classic_test.mplstyle: \n",
      "The savefig.frameon rcparam was deprecated in Matplotlib 3.1 and will be removed in 3.3.\n",
      "In /share/soft/anaconda3/lib/python3.7/site-packages/matplotlib/mpl-data/stylelib/_classic_test.mplstyle: \n",
      "The verbose.level rcparam was deprecated in Matplotlib 3.1 and will be removed in 3.3.\n",
      "In /share/soft/anaconda3/lib/python3.7/site-packages/matplotlib/mpl-data/stylelib/_classic_test.mplstyle: \n",
      "The verbose.fileo rcparam was deprecated in Matplotlib 3.1 and will be removed in 3.3.\n"
     ]
    }
   ],
   "source": [
    "%matplotlib inline"
   ]
  },
  {
   "cell_type": "code",
   "execution_count": 2,
   "metadata": {},
   "outputs": [],
   "source": [
    "import matplotlib as mpl; mpl.rcParams['savefig.dpi'] = 144\n",
    "import numpy as np\n",
    "import matplotlib.pyplot as plt\n",
    "import matplotlib.cm as cm"
   ]
  },
  {
   "cell_type": "code",
   "execution_count": 3,
   "metadata": {},
   "outputs": [],
   "source": [
    "import pynbody"
   ]
  },
  {
   "cell_type": "code",
   "execution_count": 4,
   "metadata": {},
   "outputs": [
    {
     "name": "stderr",
     "output_type": "stream",
     "text": [
      "/share/home/liuzhong/.local/lib/python3.7/site-packages/pynbody/snapshot/tipsy.py:130: RuntimeWarning: No readable param file in the run directory or parent directory: using defaults.\n",
      "  \"No readable param file in the run directory or parent directory: using defaults.\", RuntimeWarning)\n"
     ]
    }
   ],
   "source": [
    "s= pynbody.load('run768MR.00700.gz')"
   ]
  },
  {
   "cell_type": "code",
   "execution_count": 5,
   "metadata": {},
   "outputs": [],
   "source": [
    "pos_cen = pynbody.analysis.halo.center(s, mode='com', retcen=True)"
   ]
  },
  {
   "cell_type": "code",
   "execution_count": 6,
   "metadata": {},
   "outputs": [
    {
     "name": "stdout",
     "output_type": "stream",
     "text": [
      "[-0.20828267 -0.01008353  0.19416116]\n"
     ]
    }
   ],
   "source": [
    "print(pos_cen)"
   ]
  },
  {
   "cell_type": "code",
   "execution_count": 7,
   "metadata": {},
   "outputs": [],
   "source": [
    "vel_cen = pynbody.analysis.halo.vel_center(s, mode='com', cen_size= '10 kpc', retcen=True)"
   ]
  },
  {
   "cell_type": "markdown",
   "metadata": {},
   "source": [
    "# initial pos & vel"
   ]
  },
  {
   "cell_type": "code",
   "execution_count": 8,
   "metadata": {},
   "outputs": [
    {
     "name": "stdout",
     "output_type": "stream",
     "text": [
      "[-0.43320531  1.58919318  0.31718416]\n"
     ]
    }
   ],
   "source": [
    "print(vel_cen)"
   ]
  },
  {
   "cell_type": "code",
   "execution_count": 9,
   "metadata": {},
   "outputs": [
    {
     "name": "stdout",
     "output_type": "stream",
     "text": [
      "[-38.18009186  30.39368248  95.41511536]\n"
     ]
    }
   ],
   "source": [
    "print(s['pos'][0])"
   ]
  },
  {
   "cell_type": "code",
   "execution_count": 10,
   "metadata": {},
   "outputs": [
    {
     "name": "stdout",
     "output_type": "stream",
     "text": [
      "[ -30.92800713   67.05614471 -202.31628418]\n"
     ]
    }
   ],
   "source": [
    "print(s['vel'][0])"
   ]
  },
  {
   "cell_type": "code",
   "execution_count": 11,
   "metadata": {},
   "outputs": [],
   "source": [
    "x = np.array(s['pos'])[0][0] - pos_cen[0]\n",
    "y = np.array(s['pos'])[0][1] - pos_cen[1]\n",
    "z = np.array(s['pos'])[0][2] - pos_cen[2]\n",
    "vx = np.array(s['vel'])[0][0] - vel_cen[0]\n",
    "vy = np.array(s['vel'])[0][1] - vel_cen[1]\n",
    "vz = np.array(s['vel'])[0][2] - vel_cen[2]"
   ]
  },
  {
   "cell_type": "code",
   "execution_count": 12,
   "metadata": {},
   "outputs": [
    {
     "name": "stdout",
     "output_type": "stream",
     "text": [
      "[-37.97180918584031, 30.403766009764116, 95.22095419408205]\n"
     ]
    }
   ],
   "source": [
    "print([x, y, z])"
   ]
  },
  {
   "cell_type": "code",
   "execution_count": 13,
   "metadata": {},
   "outputs": [
    {
     "name": "stdout",
     "output_type": "stream",
     "text": [
      "[-37.97180919, 30.40376601, 95.22095419]\n"
     ]
    }
   ],
   "source": [
    "print([-37.97180919, 30.40376601, 95.22095419])"
   ]
  },
  {
   "cell_type": "code",
   "execution_count": 14,
   "metadata": {},
   "outputs": [
    {
     "name": "stdout",
     "output_type": "stream",
     "text": [
      "[-30.494801815316045, 65.46695152989133, -202.63346834375616]\n"
     ]
    }
   ],
   "source": [
    "print([vx, vy, vz])"
   ]
  },
  {
   "cell_type": "code",
   "execution_count": 15,
   "metadata": {},
   "outputs": [
    {
     "name": "stdout",
     "output_type": "stream",
     "text": [
      "[-27.9656723, 67.59962201, -202.23432396]\n"
     ]
    }
   ],
   "source": [
    "print([-27.9656723, 67.59962201, -202.23432396])"
   ]
  },
  {
   "cell_type": "code",
   "execution_count": 16,
   "metadata": {},
   "outputs": [
    {
     "name": "stdout",
     "output_type": "stream",
     "text": [
      "[4.1596948108235665e-09, -2.3588242470395926e-10, 4.08205380608706e-09]\n"
     ]
    }
   ],
   "source": [
    "print([x+37.97180919, y-30.40376601, z-95.22095419])"
   ]
  },
  {
   "cell_type": "code",
   "execution_count": 17,
   "metadata": {},
   "outputs": [
    {
     "name": "stdout",
     "output_type": "stream",
     "text": [
      "[-2.5291295153160434, -2.132670480108672, -0.3991443837561519]\n"
     ]
    }
   ],
   "source": [
    "print([vx+27.9656723, vy-67.59962201, vz+202.23432396])"
   ]
  },
  {
   "cell_type": "code",
   "execution_count": null,
   "metadata": {},
   "outputs": [],
   "source": []
  }
 ],
 "metadata": {
  "kernelspec": {
   "display_name": "anaconda3-python",
   "language": "python",
   "name": "anaconda3-python"
  },
  "language_info": {
   "codemirror_mode": {
    "name": "ipython",
    "version": 3
   },
   "file_extension": ".py",
   "mimetype": "text/x-python",
   "name": "python",
   "nbconvert_exporter": "python",
   "pygments_lexer": "ipython3",
   "version": "3.7.6"
  }
 },
 "nbformat": 4,
 "nbformat_minor": 2
}
