{
 "cells": [
  {
   "cell_type": "code",
   "execution_count": 1,
   "metadata": {},
   "outputs": [],
   "source": [
    "%matplotlib inline"
   ]
  },
  {
   "cell_type": "code",
   "execution_count": 2,
   "metadata": {},
   "outputs": [],
   "source": [
    "import numpy as np\n",
    "import matplotlib\n",
    "import matplotlib.pyplot as plt\n",
    "import matplotlib.cm as cm\n",
    "import matplotlib.patches as patches\n",
    "from scipy import interpolate"
   ]
  },
  {
   "cell_type": "markdown",
   "metadata": {},
   "source": [
    "### Read in data"
   ]
  },
  {
   "cell_type": "code",
   "execution_count": 3,
   "metadata": {},
   "outputs": [
    {
     "name": "stderr",
     "output_type": "stream",
     "text": [
      "/usr/local/anaconda3/lib/python3.7/site-packages/ipykernel_launcher.py:25: RuntimeWarning: invalid value encountered in double_scalars\n"
     ]
    }
   ],
   "source": [
    "# later time step\n",
    "nn = 350\n",
    "# step interval\n",
    "dn = 10\n",
    "\n",
    "filename1=('./ptcls_info_t%3.3d.dat')%(nn)\n",
    "x1,y1,vx1,vy1,vz1,m1,pe1=np.loadtxt(filename1,usecols=[0,1,2,3,4,5,6],unpack=True)\n",
    "filename2=('./ptcls_info_t%3.3d.dat')%(nn+dn)\n",
    "x2,y2,vx2,vy2,vz2,m2,pe2=np.loadtxt(filename2,usecols=[0,1,2,3,4,5,6],unpack=True)\n",
    "datname=('./frqs_info_t%3.3d.dat')%(nn)\n",
    "m_rad, m_omega, m_kappa, m_kappaz=np.loadtxt(datname,usecols=[1,2,3,4],unpack=True)\n",
    "\n",
    "# Oort Constant (BT Eq 3.84)\n",
    "r1 = [np.sqrt(x1[i]**2 + y1[i]**2) for i in range(len(x1))]\n",
    "r2 = [np.sqrt(x2[i]**2 + y2[i]**2) for i in range(len(x2))]\n",
    "\n",
    "# interpolation\n",
    "fomega = interpolate.interp1d(m_rad, m_omega, kind='linear', bounds_error=False, fill_value=(0.,max(m_rad)))\n",
    "fkappa = interpolate.interp1d(m_rad, m_kappa, kind='linear', bounds_error=False, fill_value=(0.,max(m_rad)))\n",
    "\n",
    "omega = fomega(r1)\n",
    "kappa = fkappa(r1)\n",
    "\n",
    "# Oort Constant\n",
    "B = [kappa[i]**2/(-4.*omega[i]) for i in range(len(x1))]\n",
    "A = [B[i] + omega[i] for i in range(len(x1))]"
   ]
  },
  {
   "cell_type": "code",
   "execution_count": 4,
   "metadata": {
    "scrolled": false
   },
   "outputs": [
    {
     "ename": "NameError",
     "evalue": "name 'ke1' is not defined",
     "output_type": "error",
     "traceback": [
      "\u001b[0;31m---------------------------------------------------------------------------\u001b[0m",
      "\u001b[0;31mNameError\u001b[0m                                 Traceback (most recent call last)",
      "\u001b[0;32m<ipython-input-4-b39107a8cb1f>\u001b[0m in \u001b[0;36m<module>\u001b[0;34m\u001b[0m\n\u001b[1;32m     11\u001b[0m        }\n\u001b[1;32m     12\u001b[0m \u001b[0;34m\u001b[0m\u001b[0m\n\u001b[0;32m---> 13\u001b[0;31m \u001b[0mplt\u001b[0m\u001b[0;34m.\u001b[0m\u001b[0mscatter\u001b[0m\u001b[0;34m(\u001b[0m\u001b[0mpe1\u001b[0m\u001b[0;34m,\u001b[0m \u001b[0mke1\u001b[0m\u001b[0;34m*\u001b[0m\u001b[0mm1\u001b[0m\u001b[0;34m,\u001b[0m \u001b[0ms\u001b[0m\u001b[0;34m=\u001b[0m\u001b[0;36m5\u001b[0m\u001b[0;34m)\u001b[0m\u001b[0;34m\u001b[0m\u001b[0;34m\u001b[0m\u001b[0m\n\u001b[0m\u001b[1;32m     14\u001b[0m \u001b[0;34m\u001b[0m\u001b[0m\n\u001b[1;32m     15\u001b[0m \u001b[0max\u001b[0m \u001b[0;34m=\u001b[0m \u001b[0mplt\u001b[0m\u001b[0;34m.\u001b[0m\u001b[0mgca\u001b[0m\u001b[0;34m(\u001b[0m\u001b[0;34m)\u001b[0m\u001b[0;34m\u001b[0m\u001b[0;34m\u001b[0m\u001b[0m\n",
      "\u001b[0;31mNameError\u001b[0m: name 'ke1' is not defined"
     ]
    },
    {
     "data": {
      "image/png": "[encoded data removed]",
      "text/plain": [
       "<Figure size 1152x720 with 1 Axes>"
      ]
     },
     "metadata": {},
     "output_type": "display_data"
    }
   ],
   "source": [
    "fig = plt.figure(figsize=(16, 10), dpi=72, facecolor=\"white\")\n",
    "ax = plt.subplot(111)\n",
    "ax.cla()\n",
    "ax.tick_params(direction='out',labelsize=18)\n",
    "\n",
    "# set font\n",
    "font = {'family' : 'Times New Roman',\n",
    "        'color'  : 'darkred',\n",
    "        'weight' : 'normal',\n",
    "        'size'   : 20,\n",
    "       }\n",
    "\n",
    "plt.scatter(pe1, ke1*m1, s=5)\n",
    "\n",
    "ax = plt.gca()\n",
    "ax.set_xlim(-8,8)\n",
    "ax.set_ylim(-8,8)\n",
    "\n",
    "#set label\n",
    "ax.set_xlabel('R',fontdict=font)\n",
    "ax.set_ylabel('Energy',fontdict=font)\n",
    "\n",
    "#title\n",
    "titleStr='Energy distribution at T = '+str(nn)\n",
    "plt.title(titleStr,fontdict=font)\n",
    "\n",
    "#savefig\n",
    "#figname2='./output/Te_R_t'+str(nn-dn)+'.png'\n",
    "#plt.savefig(figname2)"
   ]
  },
  {
   "cell_type": "code",
   "execution_count": null,
   "metadata": {},
   "outputs": [],
   "source": [
    "## lets print all the parameters!"
   ]
  }
 ],
 "metadata": {
  "kernelspec": {
   "display_name": "Python 3",
   "language": "python",
   "name": "python3"
  },
  "language_info": {
   "codemirror_mode": {
    "name": "ipython",
    "version": 3
   },
   "file_extension": ".py",
   "mimetype": "text/x-python",
   "name": "python",
   "nbconvert_exporter": "python",
   "pygments_lexer": "ipython3",
   "version": "3.7.1"
  }
 },
 "nbformat": 4,
 "nbformat_minor": 2
}
